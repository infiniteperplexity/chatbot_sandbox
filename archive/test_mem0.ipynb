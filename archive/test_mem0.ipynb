{
 "cells": [
  {
   "cell_type": "code",
   "execution_count": 2,
   "id": "703a3c1b",
   "metadata": {},
   "outputs": [],
   "source": [
    "import os\n",
    "from typing import List, Dict\n",
    "from tools import create_react_tool_agent\n",
    "from langchain_core.messages import SystemMessage, HumanMessage, AIMessage\n",
    "from langchain_core.prompts import ChatPromptTemplate, MessagesPlaceholder\n",
    "import json\n",
    "from langchain_tools import long_division\n",
    "\n",
    "with open(\"config.json\", \"r\") as f:\n",
    "    config = json.load(f)\n",
    "\n",
    "model = config[\"openai\"][\"default_model\"]\n",
    "api_key = config[\"openai\"][\"api_key\"]\n",
    "# Initialize LangChain and Mem0\n",
    "agent = create_react_tool_agent(\n",
    "    model=model,\n",
    "    api_key=api_key,\n",
    "    tools=[long_division],\n",
    ")"
   ]
  },
  {
   "cell_type": "code",
   "execution_count": 3,
   "id": "87058522",
   "metadata": {},
   "outputs": [],
   "source": [
    "from mem0 import Memory\n",
    "from mem0.configs.base import MemoryConfig\n",
    "from mem0.llms.configs import LlmConfig\n",
    "\n",
    "# Ensure embedding client sees the API key\n",
    "import os\n",
    "os.environ[\"OPENAI_API_KEY\"] = api_key\n",
    "\n",
    "m = Memory()"
   ]
  },
  {
   "cell_type": "code",
   "execution_count": null,
   "id": "b1cd0ab7",
   "metadata": {},
   "outputs": [],
   "source": []
  }
 ],
 "metadata": {
  "kernelspec": {
   "display_name": "chainlit-env",
   "language": "python",
   "name": "python3"
  },
  "language_info": {
   "codemirror_mode": {
    "name": "ipython",
    "version": 3
   },
   "file_extension": ".py",
   "mimetype": "text/x-python",
   "name": "python",
   "nbconvert_exporter": "python",
   "pygments_lexer": "ipython3",
   "version": "3.11.0"
  }
 },
 "nbformat": 4,
 "nbformat_minor": 5
}
