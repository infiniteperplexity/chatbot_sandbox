{
 "cells": [
  {
   "cell_type": "code",
   "execution_count": 2,
   "id": "80b998f9",
   "metadata": {},
   "outputs": [
    {
     "name": "stderr",
     "output_type": "stream",
     "text": [
      "/home/perplexity/Desktop/GitHub/chainlit/chainlit-env/lib/python3.11/site-packages/tqdm/auto.py:21: TqdmWarning: IProgress not found. Please update jupyter and ipywidgets. See https://ipywidgets.readthedocs.io/en/stable/user_install.html\n",
      "  from .autonotebook import tqdm as notebook_tqdm\n"
     ]
    }
   ],
   "source": [
    "# let's set up a basic vectory memory store\n",
    "import uuid\n",
    "from sentence_transformers import SentenceTransformer\n",
    "from langchain_core.vectorstores import InMemoryVectorStore\n",
    "from langchain.schema import Document\n"
   ]
  },
  {
   "cell_type": "code",
   "execution_count": null,
   "id": "07e2b475",
   "metadata": {},
   "outputs": [
    {
     "name": "stdout",
     "output_type": "stream",
     "text": [
      "{'id': '6278c8b7-ca6d-4b1e-9a41-93207385769e'}\n"
     ]
    }
   ],
   "source": [
    "# 1. Choose / load a local model\n",
    "model = SentenceTransformer(\"all-MiniLM-L6-v2\")\n",
    "\n",
    "# 2. Create documents that carry their own IDs\n",
    "docs = [\n",
    "    Document(\n",
    "        page_content=\"Cats have retractable claws.\",\n",
    "        metadata={\"id\": str(uuid.uuid4())}\n",
    "    ),\n",
    "    Document(\n",
    "        page_content=\"Dogs are descendants of wolves.\",\n",
    "        metadata={\"id\": str(uuid.uuid4())}\n",
    "    )\n",
    "]\n",
    "\n",
    "# 3. Create a wrapper class for the embedding function\n",
    "class SentenceTransformerEmbeddings:\n",
    "    def __init__(self, model):\n",
    "        self.model = model\n",
    "    \n",
    "    def embed_query(self, text):\n",
    "        return self.model.encode(text).tolist()\n",
    "    \n",
    "    def embed_documents(self, texts):\n",
    "        return [self.model.encode(text).tolist() for text in texts]\n",
    "\n",
    "embedding_function = SentenceTransformerEmbeddings(model)\n",
    "\n",
    "# 4. Build the in-memory vector store using from_documents\n",
    "store = InMemoryVectorStore.from_documents(docs, embedding_function)\n",
    "# 5. Run a similarity search\n",
    "results = store.similarity_search(\"Which animal has claws?\", k=1)\n",
    "print(results[0].metadata)   # {'id': '...'}  ← your ID travels with the hit"
   ]
  },
  {
   "cell_type": "code",
   "execution_count": null,
   "id": "b3631816",
   "metadata": {},
   "outputs": [],
   "source": []
  }
 ],
 "metadata": {
  "kernelspec": {
   "display_name": "chainlit-env",
   "language": "python",
   "name": "python3"
  },
  "language_info": {
   "codemirror_mode": {
    "name": "ipython",
    "version": 3
   },
   "file_extension": ".py",
   "mimetype": "text/x-python",
   "name": "python",
   "nbconvert_exporter": "python",
   "pygments_lexer": "ipython3",
   "version": "3.11.0"
  }
 },
 "nbformat": 4,
 "nbformat_minor": 5
}
