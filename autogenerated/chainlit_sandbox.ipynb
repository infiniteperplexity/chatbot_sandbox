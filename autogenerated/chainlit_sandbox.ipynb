{
 "cells": [
  {
   "cell_type": "markdown",
   "id": "46603c1d",
   "metadata": {},
   "source": [
    "# Chainlit Chatbot Sandbox 🤖\n",
    "\n",
    "This notebook provides a sandbox environment for developing and testing your Chainlit chatbot with GPT-4.1.\n",
    "\n",
    "## Features:\n",
    "- 🔧 Interactive configuration and testing\n",
    "- 🚀 Start/stop chatbot server controls\n",
    "- 📝 Replicated app.py functionality\n",
    "- 🛠️ Process management utilities"
   ]
  },
  {
   "cell_type": "markdown",
   "id": "2aa30765",
   "metadata": {},
   "source": [
    "## 1. Import Required Libraries\n",
    "\n",
    "Import all necessary libraries for process management, configuration, and chatbot functionality."
   ]
  },
  {
   "cell_type": "code",
   "execution_count": null,
   "id": "33ff16a1",
   "metadata": {},
   "outputs": [
    {
     "name": "stdout",
     "output_type": "stream",
     "text": [
      "✅ Chainlit and LangChain libraries imported successfully\n",
      "✅ Configuration loader imported successfully\n",
      "📦 All imports completed!\n"
     ]
    }
   ],
   "source": [
    "# Import Required Libraries\n",
    "import subprocess\n",
    "import os\n",
    "import signal\n",
    "import time\n",
    "import json\n",
    "from pathlib import Path\n",
    "\n",
    "# Chainlit and LangChain imports (for testing/development)\n",
    "try:\n",
    "    import chainlit as cl\n",
    "    from langchain_openai import ChatOpenAI\n",
    "    from langchain_core.messages import HumanMessage, SystemMessage\n",
    "    print(\"✅ Chainlit and LangChain libraries imported successfully\")\n",
    "except ImportError as e:\n",
    "    print(f\"❌ Import error: {e}\")\n",
    "    print(\"Make sure you've activated your virtual environment!\")\n",
    "\n",
    "# Configuration loader\n",
    "try:\n",
    "    from config_loader import config\n",
    "    print(\"✅ Configuration loader imported successfully\")\n",
    "except ImportError as e:\n",
    "    print(f\"❌ Config loader import error: {e}\")\n",
    "\n",
    "# Import chatbot utilities\n",
    "try:\n",
    "    from chatbot_utils import (\n",
    "        ChainlitManager, \n",
    "        chainlit_manager,\n",
    "        test_configuration,\n",
    "        create_chatbot_app,\n",
    "        test_llm_connection,\n",
    "        check_server_status,\n",
    "        open_browser,\n",
    "        restart_server,\n",
    "        show_config,\n",
    "        print_available_functions\n",
    "    )\n",
    "    print(\"✅ Chatbot utilities imported successfully\")\n",
    "except ImportError as e:\n",
    "    print(f\"❌ Chatbot utilities import error: {e}\")\n",
    "\n",
    "print(\"📦 All imports completed!\")\n",
    "print_available_functions()"
   ]
  },
  {
   "cell_type": "markdown",
   "id": "88424ea7",
   "metadata": {},
   "source": [
    "## 2. Configuration Testing\n",
    "\n",
    "Test and display the current configuration settings."
   ]
  },
  {
   "cell_type": "code",
   "execution_count": null,
   "id": "a4d003b4",
   "metadata": {},
   "outputs": [
    {
     "name": "stdout",
     "output_type": "stream",
     "text": [
      "🔧 Current Configuration:\n",
      "  Model: gpt-4.1\n",
      "  Temperature: 0.7\n",
      "  Max Tokens: 1000\n",
      "  API Key: ✅ Configured (ends with ...lqoA)\n",
      "\n",
      "🌐 Chainlit Configuration:\n",
      "  Host: localhost\n",
      "  Port: 8000\n",
      "  Debug: True\n"
     ]
    }
   ],
   "source": [
    "# Test Configuration using utility function\n",
    "test_configuration()"
   ]
  },
  {
   "cell_type": "markdown",
   "id": "101517c5",
   "metadata": {},
   "source": [
    "## 3. Replicated app.py Functionality\n",
    "\n",
    "This section contains the same logic as your app.py file, allowing you to test and modify the chatbot behavior."
   ]
  },
  {
   "cell_type": "code",
   "execution_count": null,
   "id": "5bdcc8be",
   "metadata": {},
   "outputs": [
    {
     "name": "stdout",
     "output_type": "stream",
     "text": [
      "Testing LLM connection...\n",
      "🔍 Testing LLM connection...\n",
      "2025-06-27 09:23:05 - HTTP Request: POST https://api.openai.com/v1/chat/completions \"HTTP/1.1 200 OK\"\n",
      "✅ LLM connection successful!\n",
      "📝 Test Response: Hello! How can I assist you today?\n"
     ]
    },
    {
     "data": {
      "text/plain": [
       "True"
      ]
     },
     "execution_count": 3,
     "metadata": {},
     "output_type": "execute_result"
    }
   ],
   "source": [
    "# Test app.py Functionality using utility functions\n",
    "# The create_chatbot_app and test_llm_connection functions are now imported from chatbot_utils\n",
    "\n",
    "print(\"Testing LLM connection...\")\n",
    "test_llm_connection()"
   ]
  },
  {
   "cell_type": "markdown",
   "id": "f1fa4c32",
   "metadata": {},
   "source": [
    "## 4. Process Management Utilities\n",
    "\n",
    "Functions and utilities for managing the Chainlit server process."
   ]
  },
  {
   "cell_type": "code",
   "execution_count": null,
   "id": "3779b49d",
   "metadata": {},
   "outputs": [
    {
     "name": "stdout",
     "output_type": "stream",
     "text": [
      "🛠️  Chainlit manager initialized!\n"
     ]
    }
   ],
   "source": [
    "# Process Management Utilities\n",
    "# The ChainlitManager class and chainlit_manager instance are now imported from chatbot_utils\n",
    "\n",
    "print(\"🛠️  Chainlit manager is available as 'chainlit_manager'\")\n",
    "print(\"📋 Available methods:\")\n",
    "print(\"  • chainlit_manager.start_server(host, port, background)\")\n",
    "print(\"  • chainlit_manager.stop_server()\")\n",
    "print(\"  • chainlit_manager.status()\")\n",
    "print(\"  • chainlit_manager.is_running()\")\n",
    "\n",
    "# Show current status\n",
    "chainlit_manager.status()"
   ]
  },
  {
   "cell_type": "markdown",
   "id": "11009bbf",
   "metadata": {},
   "source": [
    "## 5. Start Chatbot Server 🚀\n",
    "\n",
    "Use these cells to start your Chainlit chatbot server."
   ]
  },
  {
   "cell_type": "code",
   "execution_count": 5,
   "id": "3f5f14c3",
   "metadata": {},
   "outputs": [
    {
     "name": "stdout",
     "output_type": "stream",
     "text": [
      "✅ Chainlit server is running\n",
      "📊 Process IDs: 449523\n",
      "⚠️  Server is already running!\n",
      "\n",
      "❌ Failed to start chatbot server\n",
      "💡 Check the configuration and try again\n"
     ]
    }
   ],
   "source": [
    "# Start Chatbot Server (Python Function)\n",
    "# Run this cell to start the server using Python\n",
    "\n",
    "# Check status first\n",
    "chainlit_manager.status()\n",
    "\n",
    "# Start the server\n",
    "success = chainlit_manager.start_server(host=\"localhost\", port=8000)\n",
    "\n",
    "if success:\n",
    "    print(\"\\n🎉 Chatbot started successfully!\")\n",
    "    print(\"🌐 Open your browser to: http://localhost:8000\")\n",
    "    print(\"📝 Or use the Simple Browser in VS Code\")\n",
    "else:\n",
    "    print(\"\\n❌ Failed to start chatbot server\")\n",
    "    print(\"💡 Check the configuration and try again\")"
   ]
  },
  {
   "cell_type": "code",
   "execution_count": null,
   "id": "e7512318",
   "metadata": {},
   "outputs": [],
   "source": [
    "# Alternative: Start Server using Shell Command\n",
    "# Uncomment and run the line below if you prefer shell commands\n",
    "\n",
    "# !source chainlit-env/bin/activate && chainlit run app.py --host localhost --port 8000"
   ]
  },
  {
   "cell_type": "markdown",
   "id": "21c13fd8",
   "metadata": {},
   "source": [
    "## 6. Stop Chatbot Server 🛑\n",
    "\n",
    "Use these cells to stop your Chainlit chatbot server."
   ]
  },
  {
   "cell_type": "code",
   "execution_count": null,
   "id": "e4a34105",
   "metadata": {},
   "outputs": [],
   "source": [
    "# Stop Chatbot Server (Python Function)\n",
    "# Run this cell to stop the server using Python\n",
    "\n",
    "# Check current status\n",
    "print(\"Current status:\")\n",
    "chainlit_manager.status()\n",
    "\n",
    "# Stop the server\n",
    "success = chainlit_manager.stop_server()\n",
    "\n",
    "if success:\n",
    "    print(\"\\n🛑 Chatbot server stopped successfully!\")\n",
    "else:\n",
    "    print(\"\\n❌ No running server found or failed to stop\")\n",
    "\n",
    "# Check status after stopping\n",
    "print(\"\\nStatus after stop attempt:\")\n",
    "chainlit_manager.status()"
   ]
  },
  {
   "cell_type": "code",
   "execution_count": null,
   "id": "5273d6b1",
   "metadata": {},
   "outputs": [],
   "source": [
    "# Alternative: Stop Server using Shell Command\n",
    "# Uncomment and run the line below if you prefer shell commands\n",
    "\n",
    "# !pkill -f \"chainlit run\""
   ]
  },
  {
   "cell_type": "markdown",
   "id": "3f6599a7",
   "metadata": {},
   "source": [
    "## 7. Utilities & Testing 🔧\n",
    "\n",
    "Additional utilities for development and testing."
   ]
  },
  {
   "cell_type": "code",
   "execution_count": null,
   "id": "7a7ab7b4",
   "metadata": {},
   "outputs": [],
   "source": [
    "# Utility Functions - Now using imported functions from chatbot_utils\n",
    "\n",
    "# Convenience wrapper functions for easier use in notebook\n",
    "def status():\n",
    "    \"\"\"Quick status check.\"\"\"\n",
    "    check_server_status(chainlit_manager)\n",
    "\n",
    "def browser():\n",
    "    \"\"\"Open browser - shorter name for notebook use.\"\"\"\n",
    "    open_browser()\n",
    "\n",
    "def restart():\n",
    "    \"\"\"Restart server - shorter name for notebook use.\"\"\"\n",
    "    restart_server(chainlit_manager)\n",
    "\n",
    "def config_info():\n",
    "    \"\"\"Show config - shorter name for notebook use.\"\"\"\n",
    "    show_config()\n",
    "\n",
    "# Display available functions\n",
    "print(\"🛠️  Convenience functions for notebook:\")\n",
    "print(\"  • status() - Check if server is running\")\n",
    "print(\"  • browser() - Open chatbot in browser\")\n",
    "print(\"  • restart() - Restart the server\")\n",
    "print(\"  • config_info() - Display current configuration\")\n",
    "print()\n",
    "print(\"🔧 Original functions also available:\")\n",
    "print(\"  • check_server_status(chainlit_manager)\")\n",
    "print(\"  • open_browser()\")\n",
    "print(\"  • restart_server(chainlit_manager)\")\n",
    "print(\"  • show_config()\")"
   ]
  },
  {
   "cell_type": "markdown",
   "id": "c0f6093e",
   "metadata": {},
   "source": [
    "## 🚀 Quick Start Guide\n",
    "\n",
    "**To get started:**\n",
    "\n",
    "1. **Run cell 3** to import libraries and test configuration\n",
    "2. **Run cell 5** to test your configuration  \n",
    "3. **Run cell 7** to test LLM connection\n",
    "4. **Run cell 11** to start the chatbot server\n",
    "5. **Open browser** to `http://localhost:8000` or use VS Code Simple Browser\n",
    "6. **When done, run cell 15** to stop the server\n",
    "\n",
    "**Useful commands:**\n",
    "- `status()` - Check if server is running\n",
    "- `restart()` - Restart the chatbot  \n",
    "- `config_info()` - View current settings\n",
    "- `browser()` - Open chatbot in browser\n",
    "\n",
    "**Notes:**\n",
    "- Make sure your `config.json` has valid API keys\n",
    "- The server runs in the background so you can continue using the notebook\n",
    "- Remember to stop the server when done to free up resources\n",
    "- All utility functions are now in `chatbot_utils.py` for better organization"
   ]
  }
 ],
 "metadata": {
  "kernelspec": {
   "display_name": "chainlit-env",
   "language": "python",
   "name": "python3"
  },
  "language_info": {
   "codemirror_mode": {
    "name": "ipython",
    "version": 3
   },
   "file_extension": ".py",
   "mimetype": "text/x-python",
   "name": "python",
   "nbconvert_exporter": "python",
   "pygments_lexer": "ipython3",
   "version": "3.11.0"
  }
 },
 "nbformat": 4,
 "nbformat_minor": 5
}
