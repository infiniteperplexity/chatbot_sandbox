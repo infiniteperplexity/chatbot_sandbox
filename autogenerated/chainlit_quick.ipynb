{
 "cells": [
  {
   "cell_type": "markdown",
   "id": "2aead06e",
   "metadata": {},
   "source": [
    "# Chainlit Quick Start 🚀\n",
    "\n",
    "Simple notebook to start your GPT-4.1 chatbot immediately."
   ]
  },
  {
   "cell_type": "code",
   "execution_count": 5,
   "id": "19f8873e",
   "metadata": {},
   "outputs": [
    {
     "name": "stdout",
     "output_type": "stream",
     "text": [
      "✅ Ready to start chatbot!\n"
     ]
    }
   ],
   "source": [
    "# Import utilities\n",
    "from chatbot_utils import chainlit_manager\n",
    "\n",
    "print(\"✅ Ready to start chatbot!\")"
   ]
  },
  {
   "cell_type": "code",
   "execution_count": 6,
   "id": "da80d4a4",
   "metadata": {},
   "outputs": [
    {
     "name": "stdout",
     "output_type": "stream",
     "text": [
      "🚀 Chainlit server started!\n",
      "🌐 URL: http://localhost:8000\n",
      "🌐 Open: http://localhost:8000\n"
     ]
    }
   ],
   "source": [
    "# 🚀 START CHATBOT\n",
    "chainlit_manager.start_server()\n",
    "print(\"🌐 Open: http://localhost:8000\")"
   ]
  },
  {
   "cell_type": "code",
   "execution_count": 4,
   "id": "f40372e8",
   "metadata": {},
   "outputs": [
    {
     "name": "stdout",
     "output_type": "stream",
     "text": [
      "🛑 Server stopped (pkill)\n"
     ]
    },
    {
     "data": {
      "text/plain": [
       "True"
      ]
     },
     "execution_count": 4,
     "metadata": {},
     "output_type": "execute_result"
    }
   ],
   "source": [
    "# 🛑 STOP CHATBOT\n",
    "chainlit_manager.stop_server()"
   ]
  },
  {
   "cell_type": "code",
   "execution_count": null,
   "id": "58fa5b7c",
   "metadata": {},
   "outputs": [],
   "source": [
    "# ℹ️ CHECK STATUS\n",
    "chainlit_manager.status()"
   ]
  },
  {
   "cell_type": "code",
   "execution_count": null,
   "id": "5e3d5872",
   "metadata": {},
   "outputs": [],
   "source": [
    "# 🔄 RESTART CHATBOT\n",
    "from chatbot_utils import restart_server\n",
    "restart_server(chainlit_manager)"
   ]
  },
  {
   "cell_type": "code",
   "execution_count": 3,
   "id": "0c35fe1b",
   "metadata": {},
   "outputs": [
    {
     "name": "stdout",
     "output_type": "stream",
     "text": [
      "🌐 Opening http://localhost:8000 in VS Code Simple Browser...\n",
      "⚠️  VS Code Simple Browser not available, using system browser...\n",
      "🌐 Opening http://localhost:8000 in system browser...\n",
      "⚠️  VS Code Simple Browser not available, using system browser...\n",
      "🌐 Opening http://localhost:8000 in system browser...\n"
     ]
    }
   ],
   "source": [
    "# 🌐 OPEN IN VS CODE BROWSER\n",
    "from chatbot_utils import open_vscode_browser\n",
    "open_vscode_browser()"
   ]
  }
 ],
 "metadata": {
  "kernelspec": {
   "display_name": "chainlit-env",
   "language": "python",
   "name": "python3"
  },
  "language_info": {
   "codemirror_mode": {
    "name": "ipython",
    "version": 3
   },
   "file_extension": ".py",
   "mimetype": "text/x-python",
   "name": "python",
   "nbconvert_exporter": "python",
   "pygments_lexer": "ipython3",
   "version": "3.11.0"
  }
 },
 "nbformat": 4,
 "nbformat_minor": 5
}
