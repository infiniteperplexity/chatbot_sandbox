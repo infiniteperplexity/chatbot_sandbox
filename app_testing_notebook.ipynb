{
 "cells": [
  {
   "cell_type": "code",
   "execution_count": null,
   "id": "42d04ba9",
   "metadata": {},
   "outputs": [
    {
     "name": "stdout",
     "output_type": "stream",
     "text": [
      "No existing Chainlit processes found\n",
      "Starting Chainlit app: basics_app.py\n",
      "App will be available at http://localhost:8000\n",
      "Running in headless mode - browser will NOT open automatically\n",
      "To stop the app, interrupt the kernel or restart it\n",
      "==================================================\n",
      "2025-07-07 23:29:31 - Your app is available at http://0.0.0.0:8000\n",
      "2025-07-07 23:29:34 - Translated markdown file for en-US not found. Defaulting to chainlit.md.\n",
      "=== MESSAGE RECEIVED: Try to remember, in the next conversational turn, that I mentioned termites in this message. ===\n",
      "2025-07-07 23:30:08 - HTTP Request: POST https://api.openai.com/v1/chat/completions \"HTTP/1.1 200 OK\"\n",
      "=== UPDATING CHAT HISTORY ===\n",
      "=== SENDING RESPONSE: Got it! I will remember that you mentioned termites for the next conversational turn. ===\n",
      "=== MESSAGE RECEIVED: What life form did I mention in the previous turn? ===\n",
      "2025-07-07 23:30:32 - HTTP Request: POST https://api.openai.com/v1/chat/completions \"HTTP/1.1 200 OK\"\n",
      "=== UPDATING CHAT HISTORY ===\n",
      "=== SENDING RESPONSE: You mentioned termites in the previous turn. ===\n"
     ]
    }
   ],
   "source": [
    "from dev_tools import launch_chainlit_app\n",
    "\n",
    "launch_chainlit_app(\"basics_app.py\")"
   ]
  }
 ],
 "metadata": {
  "kernelspec": {
   "display_name": "chainlit-env",
   "language": "python",
   "name": "python3"
  },
  "language_info": {
   "codemirror_mode": {
    "name": "ipython",
    "version": 3
   },
   "file_extension": ".py",
   "mimetype": "text/x-python",
   "name": "python",
   "nbconvert_exporter": "python",
   "pygments_lexer": "ipython3",
   "version": "3.11.0"
  }
 },
 "nbformat": 4,
 "nbformat_minor": 5
}
