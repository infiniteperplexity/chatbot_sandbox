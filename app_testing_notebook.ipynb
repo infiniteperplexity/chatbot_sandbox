{
 "cells": [
  {
   "cell_type": "code",
   "execution_count": 1,
   "id": "6a17c68c",
   "metadata": {},
   "outputs": [
    {
     "name": "stdout",
     "output_type": "stream",
     "text": [
      "2025-07-20 20:54:19 - Your app is available at http://localhost:8000\n",
      "2025-07-20 20:54:27 - Translated markdown file for en-US not found. Defaulting to chainlit.md.\n",
      "CHAT STARTED\n",
      "=== MESSAGE RECEIVED: The user is letting you know that their favorite vegetable is artichokes, and you should remember this fact. ===\n",
      "['The user is letting you know that their favorite vegetable is artichokes, and you should remember this fact.']\n",
      "Extracting facts from: \n",
      "You are a Personal Information Organizer, specialized in accurately storing facts, user memories, and preferences. Your primary role is to extract relevant pieces of information from conversations and organize them into distinct, manageable facts.\n",
      "\n",
      "Example:\n",
      "Input:\n",
      "Yesterday, I had a meeting with John at 3pm. We discussed the new project.  \n",
      "Output:\n",
      "{\"facts\" : [\"Had a meeting with John at 3pm\", \"Discussed the new project\"]}  \n",
      "\n",
      "Return the facts and preferences in a json format as shown above.\n",
      "\n",
      "Input: Human: The user is letting you know that their favorite vegetable is artichokes, and you should remember this fact.\n",
      "\n",
      "Output:\n",
      "\n",
      "2025-07-20 20:54:56 - HTTP Request: POST https://api.openai.com/v1/chat/completions \"HTTP/1.1 200 OK\"\n",
      "Response was: facts=['Favorite vegetable is artichokes']\n",
      "Extracted facts: ['Favorite vegetable is artichokes']\n",
      "2025-07-20 20:54:57 - HTTP Request: POST https://api.openai.com/v1/embeddings \"HTTP/1.1 200 OK\"\n",
      "2025-07-20 20:54:57 - HTTP Request: POST https://api.openai.com/v1/chat/completions \"HTTP/1.1 200 OK\"\n",
      "Updates prepared: [MemoryEvent(event=<OperationType.ADD: 'add'>, id='1', text='Favorite vegetable is artichokes')]\n",
      "2025-07-20 20:54:58 - HTTP Request: POST https://api.openai.com/v1/embeddings \"HTTP/1.1 200 OK\"\n",
      "2025-07-20 20:54:58 - HTTP Request: POST https://api.openai.com/v1/embeddings \"HTTP/1.1 200 OK\"\n",
      "Context memories found: [MemoryItem(id='92af7e12-a456-4fac-8ce3-580a220811f6', text='Favorite vegetable is artichokes')]\n",
      "2025-07-20 20:54:58 - HTTP Request: POST https://api.openai.com/v1/chat/completions \"HTTP/1.1 200 OK\"\n",
      "=== SENDING RESPONSE: Got it! I’ll remember that your favorite vegetable is artichokes. If you’d like artichoke recipes, facts, or anything related to artichokes, just let me know! ===\n"
     ]
    }
   ],
   "source": [
    "import time\n",
    "import threading\n",
    "import sys\n",
    "from dev_tools import run_chainlit_thread\n",
    "app_name = \"memory_app.py\"\n",
    "thread = run_chainlit_thread(app_name)"
   ]
  },
  {
   "cell_type": "code",
   "execution_count": null,
   "id": "fba4dd06",
   "metadata": {},
   "outputs": [],
   "source": [
    "#The user is letting you know that their favorite vegetable is artichokes, and you should remember this fact."
   ]
  },
  {
   "cell_type": "code",
   "execution_count": 2,
   "id": "c5d892b1",
   "metadata": {},
   "outputs": [
    {
     "name": "stdout",
     "output_type": "stream",
     "text": [
      "2025-07-20 20:55:29 - HTTP Request: POST https://api.openai.com/v1/embeddings \"HTTP/1.1 200 OK\"\n"
     ]
    },
    {
     "data": {
      "text/plain": [
       "[MemoryItem(id='92af7e12-a456-4fac-8ce3-580a220811f6', text='Favorite vegetable is artichokes')]"
      ]
     },
     "execution_count": 2,
     "metadata": {},
     "output_type": "execute_result"
    }
   ],
   "source": [
    "import app_memory_hook\n",
    "memo = app_memory_hook.mem0izer\n",
    "memo.retrieve_memories(\"What is my favorite vegetable?\")"
   ]
  }
 ],
 "metadata": {
  "kernelspec": {
   "display_name": "chainlit-env",
   "language": "python",
   "name": "python3"
  },
  "language_info": {
   "codemirror_mode": {
    "name": "ipython",
    "version": 3
   },
   "file_extension": ".py",
   "mimetype": "text/x-python",
   "name": "python",
   "nbconvert_exporter": "python",
   "pygments_lexer": "ipython3",
   "version": "3.11.0"
  }
 },
 "nbformat": 4,
 "nbformat_minor": 5
}
