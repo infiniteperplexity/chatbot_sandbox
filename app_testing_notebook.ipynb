{
 "cells": [
  {
   "cell_type": "code",
   "execution_count": null,
   "id": "6a17c68c",
   "metadata": {},
   "outputs": [
    {
     "name": "stdout",
     "output_type": "stream",
     "text": [
      "2025-07-17 21:29:31 - Your app is available at http://localhost:8000\n",
      "2025-07-17 21:29:33 - Translated markdown file for en-US not found. Defaulting to chainlit.md.\n"
     ]
    }
   ],
   "source": [
    "import time\n",
    "import threading\n",
    "import sys\n",
    "from dev_tools import run_chainlit_thread\n",
    "app_name = \"save_threads_app.py\"\n",
    "thread = run_chainlit_thread(app_name)"
   ]
  },
  {
   "cell_type": "code",
   "execution_count": 2,
   "id": "c5d892b1",
   "metadata": {},
   "outputs": [
    {
     "name": "stdout",
     "output_type": "stream",
     "text": [
      "[SystemMessage(content=\"You are a helpful assistant with access to several tools.  Today's date is 2025-07-09. \", additional_kwargs={}, response_metadata={}),\n",
      " AIMessage(content='Welcome to the Chainlit app! I can perform long division and read file attachments. I also just learned to search the web! Try sending me a message or attaching a file.', additional_kwargs={}, response_metadata={}),\n",
      " SystemMessage(content=\"You are a helpful assistant with access to several tools.  Today's date is 2025-07-09. \", additional_kwargs={}, response_metadata={}),\n",
      " AIMessage(content='Welcome to the Chainlit app! I can perform long division and read file attachments. I also just learned to search the web! Try sending me a message or attaching a file.', additional_kwargs={}, response_metadata={}),\n",
      " HumanMessage(content='Can you tell me what some major news items were from yesterday?', additional_kwargs={}, response_metadata={}),\n",
      " AIMessage(content='Here are some major news items from July 8, 2025:\\n\\n1. Ukraine & Russia Conflict:\\n   - President Trump decided to resume sending weapons to Ukraine after briefly halting some missile and munitions shipments. He is also considering new sanctions on Russia.\\n   - Russian drones struck Ukrainian military recruitment centers, especially in Kharkiv, killing 1 and injuring over 70. Strikes also hit Odesa and Zaporizhzhia.\\n\\n2. U.S. & Israel Relations:\\n   - President Trump welcomed Israeli Prime Minister Benjamin Netanyahu to the White House. They discussed a controversial plan to expel thousands of Palestinians from Gaza and talked about ceasefire negotiations with Hamas.\\n\\n3. Immigration & Law Enforcement:\\n   - In Los Angeles, heavily armed federal immigration agents carried out a raid in MacArthur Park, sparking outrage from the community and city officials like Mayor Karen Bass.\\n\\n4. Domestic Policy:\\n   - The U.S. Supreme Court cleared the way for President Trump’s plan to lay off hundreds of thousands of federal workers.\\n   - Garbage was piling up in Philadelphia due to an ongoing municipal worker strike.\\n\\n5. Other Noteworthy Items:\\n   - There were severe storms and floods in Texas, with criticism of the lack of warning sirens.\\n   - Planned Parenthood sued to block new restrictions and funding cuts.\\n   - The TSA announced it will no longer require passengers to remove their shoes during security checks, ending a policy that began after the 2001 shoe bomb incident.\\n\\nLet me know if you’d like more details on any topic!', additional_kwargs={}, response_metadata={})]\n"
     ]
    }
   ],
   "source": [
    "import app_memory_hook\n",
    "import pprint\n",
    "pprint.pprint(app_memory_hook.chat_history)"
   ]
  }
 ],
 "metadata": {
  "kernelspec": {
   "display_name": "chainlit-env",
   "language": "python",
   "name": "python3"
  },
  "language_info": {
   "codemirror_mode": {
    "name": "ipython",
    "version": 3
   },
   "file_extension": ".py",
   "mimetype": "text/x-python",
   "name": "python",
   "nbconvert_exporter": "python",
   "pygments_lexer": "ipython3",
   "version": "3.11.0"
  }
 },
 "nbformat": 4,
 "nbformat_minor": 5
}
