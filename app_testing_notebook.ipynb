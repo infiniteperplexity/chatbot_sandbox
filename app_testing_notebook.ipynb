{
 "cells": [
  {
   "cell_type": "code",
   "execution_count": null,
   "id": "42d04ba9",
   "metadata": {},
   "outputs": [
    {
     "name": "stdout",
     "output_type": "stream",
     "text": [
      "No existing Chainlit processes found\n",
      "Starting Chainlit app: llm_app.py\n",
      "App will be available at http://localhost:8000\n",
      "Running in headless mode - browser will NOT open automatically\n",
      "To stop the app, interrupt the kernel or restart it\n",
      "==================================================\n",
      "2025-07-07 20:24:02 - Your app is available at http://0.0.0.0:8000\n",
      "2025-07-07 20:24:06 - Translated markdown file for en-US not found. Defaulting to chainlit.md.\n",
      "=== MESSAGE RECEIVED: What manner of creature are you? ===\n",
      "2025-07-07 20:24:15 - HTTP Request: POST https://api.openai.com/v1/chat/completions \"HTTP/1.1 200 OK\"\n",
      "=== SENDING RESPONSE: I am an artificial intelligence created by OpenAI, designed to assist, answer questions, and converse with you. I don’t have a physical form—think of me as a helpful companion made of code, capable of understanding and generating human language. If you’d like, I can explain more about how I work or what I’m capable of! ===\n",
      "=== MESSAGE RECEIVED: What manner of creature are you?  Are you a chatbot? ===\n",
      "2025-07-07 20:25:51 - HTTP Request: POST https://api.openai.com/v1/chat/completions \"HTTP/1.1 200 OK\"\n",
      "=== SENDING RESPONSE: Yes, I am a chatbot! I’m an AI language model created by OpenAI, designed to converse, answer questions, and help with a wide variety of topics. If you have any questions or need information or assistance, feel free to ask! ===\n",
      "=== MESSAGE RECEIVED: Test this again. ===\n",
      "2025-07-07 20:26:40 - HTTP Request: POST https://api.openai.com/v1/chat/completions \"HTTP/1.1 200 OK\"\n",
      "=== SENDING RESPONSE: Could you please clarify what you’d like to test or provide more details? Let me know what you want to try again, and I’m here to assist! ===\n",
      "=== MESSAGE RECEIVED: Wait a second, did that only clear the front end? ===\n",
      "2025-07-07 20:27:18 - HTTP Request: POST https://api.openai.com/v1/chat/completions \"HTTP/1.1 200 OK\"\n",
      "=== SENDING RESPONSE: It sounds like you might be referring to an action or a command that was just executed—perhaps something like clearing a cache, resetting a form, or refreshing data. When you ask \"did that only clear the front end?\", you're wondering whether the operation affected just what you see in your browser or app (the user interface), or if it also changed the underlying data on the server or database (the back end).\n",
      "\n",
      "For me to give you a specific answer, could you clarify what action you just took? For example:\n",
      "\n",
      "- Did you clear a cache, reset a form, delete an item, or log out?\n",
      "- Which application or system are you working with?\n",
      "- What was supposed to be cleared: data visible to you, or data stored on a server?\n",
      "\n",
      "In general:\n",
      "- \"Front end\" typically refers to changes only visible to you, and not affecting the stored data permanently.\n",
      "- \"Back end\" changes affect the database or server, meaning the change is persistent and applies to all users or future sessions.\n",
      "\n",
      "Let me know what you did, and I can confirm whether it was just the front end or both! ===\n"
     ]
    }
   ],
   "source": [
    "from dev_tools import launch_chainlit_app\n",
    "\n",
    "launch_chainlit_app(\"llm_app.py\")"
   ]
  }
 ],
 "metadata": {
  "kernelspec": {
   "display_name": "chainlit-env",
   "language": "python",
   "name": "python3"
  },
  "language_info": {
   "codemirror_mode": {
    "name": "ipython",
    "version": 3
   },
   "file_extension": ".py",
   "mimetype": "text/x-python",
   "name": "python",
   "nbconvert_exporter": "python",
   "pygments_lexer": "ipython3",
   "version": "3.11.0"
  }
 },
 "nbformat": 4,
 "nbformat_minor": 5
}
