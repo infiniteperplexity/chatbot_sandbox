{
 "cells": [
  {
   "cell_type": "code",
   "execution_count": null,
   "id": "6a17c68c",
   "metadata": {},
   "outputs": [
    {
     "name": "stdout",
     "output_type": "stream",
     "text": [
      "2025-07-09 22:27:09 - Your app is available at http://localhost:8000\n",
      "2025-07-09 22:27:11 - Translated markdown file for en-US not found. Defaulting to chainlit.md.\n",
      "=== MESSAGE RECEIVED: Can you tell me what some major news items were from yesterday? ===\n",
      "2025-07-09 22:27:35 - HTTP Request: POST https://api.openai.com/v1/chat/completions \"HTTP/1.1 200 OK\"\n",
      "2025-07-09 22:27:41 - HTTP Request: POST https://api.openai.com/v1/chat/completions \"HTTP/1.1 200 OK\"\n",
      "=== INTERMEDIATE STEPS ===\n",
      "[(ToolAgentAction(tool='tavily_search', tool_input={'query': 'major news headlines from July 8, 2025', 'search_depth': 'advanced', 'topic': 'news'}, log=\"\\nInvoking: `tavily_search` with `{'query': 'major news headlines from July 8, 2025', 'search_depth': 'advanced', 'topic': 'news'}`\\n\\n\\n\", message_log=[AIMessageChunk(content='', additional_kwargs={'tool_calls': [{'index': 0, 'id': 'call_VFoHZZEw9o6chTp8HDlQeNbv', 'function': {'arguments': '{\"query\":\"major news headlines from July 8, 2025\",\"search_depth\":\"advanced\",\"topic\":\"news\"}', 'name': 'tavily_search'}, 'type': 'function'}]}, response_metadata={'finish_reason': 'tool_calls', 'model_name': 'gpt-4.1-2025-04-14', 'system_fingerprint': 'fp_799e4ca3f1', 'service_tier': 'default'}, id='run--c67e32ac-fd6c-4b00-99e2-d7f4daa05336', tool_calls=[{'name': 'tavily_search', 'args': {'query': 'major news headlines from July 8, 2025', 'search_depth': 'advanced', 'topic': 'news'}, 'id': 'call_VFoHZZEw9o6chTp8HDlQeNbv', 'type': 'tool_call'}], tool_call_chunks=[{'name': 'tavily_search', 'args': '{\"query\":\"major news headlines from July 8, 2025\",\"search_depth\":\"advanced\",\"topic\":\"news\"}', 'id': 'call_VFoHZZEw9o6chTp8HDlQeNbv', 'index': 0, 'type': 'tool_call_chunk'}])], tool_call_id='call_VFoHZZEw9o6chTp8HDlQeNbv'), {'query': 'major news headlines from July 8, 2025', 'follow_up_questions': None, 'answer': None, 'images': [], 'results': [{'url': 'https://www.youtube.com/watch?v=NS4SUE6pDAM', 'title': '\"CBS Evening News\" Full Broadcast | July 8, 2025 - YouTube', 'content': \"Okay, Chris Van Cleave, thank you. And President Trump has decided to resume sending weapons to Ukraine. The administration last week stopped shipments of some missiles and munitions, but the president now says Ukraine has to be able to itself. And at a cabinet meeting today, the president said he is considering new sanctions on Russia. He suggested that the promises of President Putin amount to BS, though he did not use those initials. Later, Mr. Trump turns his attention to the war in Gaza. [...] the ground there with how volunteers are stepping up and people are donating money to help storm victims. This small, tight-knit community of Kurville is coming together to support each other as they mourn and rebuild. And one week into the municipal worker strike in Philadelphia, garbage is piling up and the residents are fed up. We'll check in with Dan Snyder of CBS News Philadelphia for the latest developments. Those stories and more right after our news headlines. Israeli Prime Minister [...] Benjamin Netanyahu back at the White House today. The two leaders have been working on ways to end the war between Israel and Hamas. Meanwhile, happening today, talks for a ceasefire and hostage release in Qatar. The TSA is no longer requiring passengers to remove their shoes. The policy was first introduced in 2001 after a man attempted to set off an explosive in his shoe on a flight from Paris to Miami. The TSA officially rolled out removal of shoes nationwide in 2006. Since then, only those\", 'score': 0.92588276, 'raw_content': None}, {'url': 'https://www.nytimes.com/2025/07/08/podcasts/the-headlines/trump-tariff-flood-texas.html', 'title': \"Trump's New Trade Threats, and the Return of Land Mines\", 'content': 'Published Time: 2025-07-08T10:00:07.000Z\\n\\nTrump’s New Trade Threats, and the Return of Land Mines - The New York Times\\n\\n===============\\n\\nSkip to contentSkip to site index\\n\\nThe Headlines\\n\\n[](\\n\\nToday’s Paper\\n\\nThe Headlines|Trump’s New Trade Threats, and the Return of Land Mines\\n\\n[](\\n\\n   Share full article  \\n     \\n\\nFor more audio journalism and storytelling,download New York Times Audio, a new iOS app available for news subscribers.\\n\\nImage 1: The Headlines logoThe Headlines', 'score': 0.91137725, 'raw_content': None}, {'url': 'https://www.democracynow.org/2025/7/8/headlines', 'title': 'Headlines for July 08, 2025 | Democracy Now!', 'content': 'Russian drones struck military recruitment centers in Ukraine Monday, killing one person and wounding over 70 others in Kharkiv. Elsewhere, one person was killed by a Russian strike in Odesa, while in Zaporizhzhia at least 20 people were injured when Russian drones struck a military draft center. Nearby residents said their homes were destroyed or damaged by Russia’s assault. [...] President Donald Trump welcomed Israeli Prime Minister Benjamin Netanyahu to the White House Monday, where the two leaders promoted a plan to expel thousands of Palestinians from the Gaza Strip. Over dinner with Trump, his Mideast envoy and top Cabinet members, Netanyahu presented Trump with a letter nominating him for a Nobel Peace Prize. Netanyahu also said he was working with the U.S. to find countries willing to receive Palestinians, claiming they would be free to leave Gaza voluntarily. [...] In Los Angeles, heavily armed federal immigration agents, some on horseback, staged a dramatic sweep on a public park Monday, inflaming tensions in a city already on edge from the Trump administration’s mass raids. Mayor Karen Bass arrived on the scene, where she told agents to leave MacArthur Park, a popular public space in a largely immigrant and working-class neighborhood where many children were playing. Activists and community members, some who’d been tipped off about the sweep, were seen', 'score': 0.9106172, 'raw_content': None}, {'url': 'https://www.youtube.com/watch?v=wM-DciTIn5Y', 'title': 'Top U.S. & World Headlines — July 8, 2025 - YouTube', 'content': \"just hours after Planned Parenthood sued to block the prohibition, arguing it unconstitutionally targets workers for their advocacy work and speech promoting reproductive rights. Advocates warned enforcement of the cuts would result in more than half of Planned Parenthood's 2.1 million patients losing access to reproductive care and the closure of hundreds of clinics across the United States. And those are some of the headlines. This is democracyow democracynow.org the Warren Peace Report. I am [...] States to talk to other countries. For the first time since he took power in 2012, Chinese President Xiinping skipped this year's brick summit. Russian President Vladimir Putin, who faces an international criminal court arrest warrant for war crimes committed in Ukraine, appeared by Video Link. And in Boston, a federal judge has temporarily blocked part of the newly passed Republican budget reconciliation bill that bars Medicaid funding for Planned Parenthood clinics. Monday's injunction came [...] from Camp Mystic are still missing as search and rescue efforts enter their fifth day. Texas Lieutenant Governor Dan Patrick Monday admitted local officials failed to place flood warning sirens along the Guadalupe River years ago due to cost. Meanwhile, Senate Minority Leader Chuck Schumer has called for an investigation into whether federal staffing cuts to the National Weather Service were a factor in the devastating death toll. See Democracy Now's segment on the flooding yesterday at\", 'score': 0.9092728, 'raw_content': None}, {'url': 'https://www.pbs.org/video/july-8-2025-pbs-news-hour-full-episode-1751947201/', 'title': 'July 8, 2025 - PBS News Hour full episode', 'content': 'Many are calling for the violence to end, but here bloodshed is still a part of daily life.\\n\\nFor the \"PBS News Hour,\" I\\'m Lisa Desjardins.\\n\\nAMNA NAWAZ: Also today, President Trump ramped up criticism of Russian President Vladimir Putin after reversing course on sending additional weapons to Ukraine.\\n\\nTrump told reporters last night the U.S. needs to send more weapons to Kyiv to defend against intensifying Russian attacks. [...] The flames reached the outskirts of Marseille on the southern coast, forcing its main airport to close.\\n\\nOn Wall Street today, stocks ended mixed as investors digest President Trump\\'s latest tariff plans.\\n\\nThe Dow Jones industrial average lost 165 points on the day.\\n\\nThe Nasdaq managed a slight gain of nearly six points.\\n\\nThe S&P 500 closed just barely in negative territory.\\n\\nAnd some welcome news for weary travelers. [...] AMNA NAWAZ: The president has often questioned the value of sending more military aid to Ukraine and has openly praised Putin in the past.\\n\\nTrump also said today he\\'s considering whether to support more sanctions on Russia.\\n\\nThe Supreme Court cleared the way today for President Trump\\'s plan to fire hundreds of thousands of federal workers.\\n\\nThe justices lifted a lower court order that had temporarily blocked the layoffs.', 'score': 0.90227455, 'raw_content': None}], 'response_time': 4.19})]\n",
      "=== SENDING RESPONSE: Here are some major news items from July 8, 2025:\n",
      "\n",
      "1. Ukraine & Russia Conflict:\n",
      "   - President Trump decided to resume sending weapons to Ukraine after briefly halting some missile and munitions shipments. He is also considering new sanctions on Russia.\n",
      "   - Russian drones struck Ukrainian military recruitment centers, especially in Kharkiv, killing 1 and injuring over 70. Strikes also hit Odesa and Zaporizhzhia.\n",
      "\n",
      "2. U.S. & Israel Relations:\n",
      "   - President Trump welcomed Israeli Prime Minister Benjamin Netanyahu to the White House. They discussed a controversial plan to expel thousands of Palestinians from Gaza and talked about ceasefire negotiations with Hamas.\n",
      "\n",
      "3. Immigration & Law Enforcement:\n",
      "   - In Los Angeles, heavily armed federal immigration agents carried out a raid in MacArthur Park, sparking outrage from the community and city officials like Mayor Karen Bass.\n",
      "\n",
      "4. Domestic Policy:\n",
      "   - The U.S. Supreme Court cleared the way for President Trump’s plan to lay off hundreds of thousands of federal workers.\n",
      "   - Garbage was piling up in Philadelphia due to an ongoing municipal worker strike.\n",
      "\n",
      "5. Other Noteworthy Items:\n",
      "   - There were severe storms and floods in Texas, with criticism of the lack of warning sirens.\n",
      "   - Planned Parenthood sued to block new restrictions and funding cuts.\n",
      "   - The TSA announced it will no longer require passengers to remove their shoes during security checks, ending a policy that began after the 2001 shoe bomb incident.\n",
      "\n",
      "Let me know if you’d like more details on any topic! ===\n"
     ]
    }
   ],
   "source": [
    "import time\n",
    "import threading\n",
    "import sys\n",
    "from dev_tools import run_chainlit_thread\n",
    "app_name = \"web_search_app.py\"\n",
    "thread = run_chainlit_thread(app_name)"
   ]
  },
  {
   "cell_type": "code",
   "execution_count": 2,
   "id": "c5d892b1",
   "metadata": {},
   "outputs": [
    {
     "name": "stdout",
     "output_type": "stream",
     "text": [
      "[SystemMessage(content=\"You are a helpful assistant with access to several tools.  Today's date is 2025-07-09. \", additional_kwargs={}, response_metadata={}),\n",
      " AIMessage(content='Welcome to the Chainlit app! I can perform long division and read file attachments. I also just learned to search the web! Try sending me a message or attaching a file.', additional_kwargs={}, response_metadata={}),\n",
      " SystemMessage(content=\"You are a helpful assistant with access to several tools.  Today's date is 2025-07-09. \", additional_kwargs={}, response_metadata={}),\n",
      " AIMessage(content='Welcome to the Chainlit app! I can perform long division and read file attachments. I also just learned to search the web! Try sending me a message or attaching a file.', additional_kwargs={}, response_metadata={}),\n",
      " HumanMessage(content='Can you tell me what some major news items were from yesterday?', additional_kwargs={}, response_metadata={}),\n",
      " AIMessage(content='Here are some major news items from July 8, 2025:\\n\\n1. Ukraine & Russia Conflict:\\n   - President Trump decided to resume sending weapons to Ukraine after briefly halting some missile and munitions shipments. He is also considering new sanctions on Russia.\\n   - Russian drones struck Ukrainian military recruitment centers, especially in Kharkiv, killing 1 and injuring over 70. Strikes also hit Odesa and Zaporizhzhia.\\n\\n2. U.S. & Israel Relations:\\n   - President Trump welcomed Israeli Prime Minister Benjamin Netanyahu to the White House. They discussed a controversial plan to expel thousands of Palestinians from Gaza and talked about ceasefire negotiations with Hamas.\\n\\n3. Immigration & Law Enforcement:\\n   - In Los Angeles, heavily armed federal immigration agents carried out a raid in MacArthur Park, sparking outrage from the community and city officials like Mayor Karen Bass.\\n\\n4. Domestic Policy:\\n   - The U.S. Supreme Court cleared the way for President Trump’s plan to lay off hundreds of thousands of federal workers.\\n   - Garbage was piling up in Philadelphia due to an ongoing municipal worker strike.\\n\\n5. Other Noteworthy Items:\\n   - There were severe storms and floods in Texas, with criticism of the lack of warning sirens.\\n   - Planned Parenthood sued to block new restrictions and funding cuts.\\n   - The TSA announced it will no longer require passengers to remove their shoes during security checks, ending a policy that began after the 2001 shoe bomb incident.\\n\\nLet me know if you’d like more details on any topic!', additional_kwargs={}, response_metadata={})]\n"
     ]
    }
   ],
   "source": [
    "import app_memory_hook\n",
    "import pprint\n",
    "pprint.pprint(app_memory_hook.chat_history)"
   ]
  }
 ],
 "metadata": {
  "kernelspec": {
   "display_name": "chainlit-env",
   "language": "python",
   "name": "python3"
  },
  "language_info": {
   "codemirror_mode": {
    "name": "ipython",
    "version": 3
   },
   "file_extension": ".py",
   "mimetype": "text/x-python",
   "name": "python",
   "nbconvert_exporter": "python",
   "pygments_lexer": "ipython3",
   "version": "3.11.0"
  }
 },
 "nbformat": 4,
 "nbformat_minor": 5
}
