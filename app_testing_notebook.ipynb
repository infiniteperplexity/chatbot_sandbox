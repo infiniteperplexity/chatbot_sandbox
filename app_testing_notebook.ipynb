{
 "cells": [
  {
   "cell_type": "code",
   "execution_count": null,
   "id": "6a17c68c",
   "metadata": {},
   "outputs": [
    {
     "name": "stdout",
     "output_type": "stream",
     "text": [
      "2025-07-27 17:57:32 - Your app is available at http://localhost:8000\n",
      "2025-07-27 17:57:34 - Translated markdown file for en-US not found. Defaulting to chainlit.md.\n",
      "=== MESSAGE RECEIVED: What is the result of 123456789 divided 9182736?  Please work through the answer sequentially. ===\n",
      "2025-07-27 17:57:53 - HTTP Request: POST https://api.openai.com/v1/chat/completions \"HTTP/1.1 200 OK\"\n",
      "2025-07-27 17:57:56 - HTTP Request: POST https://api.openai.com/v1/chat/completions \"HTTP/1.1 200 OK\"\n",
      "2025-07-27 17:57:58 - HTTP Request: POST https://api.openai.com/v1/chat/completions \"HTTP/1.1 200 OK\"\n",
      "2025-07-27 17:58:01 - HTTP Request: POST https://api.openai.com/v1/chat/completions \"HTTP/1.1 200 OK\"\n",
      "2025-07-27 17:58:03 - HTTP Request: POST https://api.openai.com/v1/chat/completions \"HTTP/1.1 200 OK\"\n",
      "2025-07-27 17:58:05 - HTTP Request: POST https://api.openai.com/v1/chat/completions \"HTTP/1.1 200 OK\"\n",
      "=== INTERMEDIATE STEPS ===\n",
      "[(ToolAgentAction(tool='sequentialthinking', tool_input={'thought': \"First, I'll estimate how many times 9,182,736 goes into the first significant digits of 123,456,789 by comparing the numbers' magnitudes. 9,182,736 is approximately 9.18 million, and 123,456,789 is about 123.45 million. 123.45 million divided by 9.18 million is roughly 13.45, so I'll start by seeing if 9,182,736 goes into 123,456,789 about 13 times.\", 'nextThoughtNeeded': True, 'thoughtNumber': 1, 'totalThoughts': 5}, log='\\nInvoking: `sequentialthinking` with `{\\'thought\\': \"First, I\\'ll estimate how many times 9,182,736 goes into the first significant digits of 123,456,789 by comparing the numbers\\' magnitudes. 9,182,736 is approximately 9.18 million, and 123,456,789 is about 123.45 million. 123.45 million divided by 9.18 million is roughly 13.45, so I\\'ll start by seeing if 9,182,736 goes into 123,456,789 about 13 times.\", \\'nextThoughtNeeded\\': True, \\'thoughtNumber\\': 1, \\'totalThoughts\\': 5}`\\n\\n\\n', message_log=[AIMessageChunk(content='', additional_kwargs={'tool_calls': [{'index': 0, 'id': 'call_5Sj6vVHa8pJYNy0dvfumuAwr', 'function': {'arguments': '{\"thought\":\"First, I\\'ll estimate how many times 9,182,736 goes into the first significant digits of 123,456,789 by comparing the numbers\\' magnitudes. 9,182,736 is approximately 9.18 million, and 123,456,789 is about 123.45 million. 123.45 million divided by 9.18 million is roughly 13.45, so I\\'ll start by seeing if 9,182,736 goes into 123,456,789 about 13 times.\",\"nextThoughtNeeded\":true,\"thoughtNumber\":1,\"totalThoughts\":5}', 'name': 'sequentialthinking'}, 'type': 'function'}]}, response_metadata={'finish_reason': 'tool_calls', 'model_name': 'gpt-4.1-2025-04-14', 'system_fingerprint': 'fp_51e1070cf2', 'service_tier': 'default'}, id='run--aca99fd5-666a-4db3-a4a2-83922cf57744', tool_calls=[{'name': 'sequentialthinking', 'args': {'thought': \"First, I'll estimate how many times 9,182,736 goes into the first significant digits of 123,456,789 by comparing the numbers' magnitudes. 9,182,736 is approximately 9.18 million, and 123,456,789 is about 123.45 million. 123.45 million divided by 9.18 million is roughly 13.45, so I'll start by seeing if 9,182,736 goes into 123,456,789 about 13 times.\", 'nextThoughtNeeded': True, 'thoughtNumber': 1, 'totalThoughts': 5}, 'id': 'call_5Sj6vVHa8pJYNy0dvfumuAwr', 'type': 'tool_call'}], tool_call_chunks=[{'name': 'sequentialthinking', 'args': '{\"thought\":\"First, I\\'ll estimate how many times 9,182,736 goes into the first significant digits of 123,456,789 by comparing the numbers\\' magnitudes. 9,182,736 is approximately 9.18 million, and 123,456,789 is about 123.45 million. 123.45 million divided by 9.18 million is roughly 13.45, so I\\'ll start by seeing if 9,182,736 goes into 123,456,789 about 13 times.\",\"nextThoughtNeeded\":true,\"thoughtNumber\":1,\"totalThoughts\":5}', 'id': 'call_5Sj6vVHa8pJYNy0dvfumuAwr', 'index': 0, 'type': 'tool_call_chunk'}])], tool_call_id='call_5Sj6vVHa8pJYNy0dvfumuAwr'), '{\\n  \"thoughtNumber\": 1,\\n  \"totalThoughts\": 5,\\n  \"nextThoughtNeeded\": true,\\n  \"branches\": [],\\n  \"thoughtHistoryLength\": 1\\n}'), (ToolAgentAction(tool='sequentialthinking', tool_input={'thought': 'Calculate 9,182,736 multiplied by 13 to check how close this product is to 123,456,789. Multiply: 9,182,736 x 13 = 119,375,568. Subtract this from the original number: 123,456,789 - 119,375,568 = 4,081,221. (So the quotient so far is 13, with a remainder of 4,081,221.)', 'nextThoughtNeeded': True, 'thoughtNumber': 2, 'totalThoughts': 5}, log=\"\\nInvoking: `sequentialthinking` with `{'thought': 'Calculate 9,182,736 multiplied by 13 to check how close this product is to 123,456,789. Multiply: 9,182,736 x 13 = 119,375,568. Subtract this from the original number: 123,456,789 - 119,375,568 = 4,081,221. (So the quotient so far is 13, with a remainder of 4,081,221.)', 'nextThoughtNeeded': True, 'thoughtNumber': 2, 'totalThoughts': 5}`\\n\\n\\n\", message_log=[AIMessageChunk(content='', additional_kwargs={'tool_calls': [{'index': 0, 'id': 'call_xvErUJCpuWhbAQ6RiByK5MTX', 'function': {'arguments': '{\"thought\":\"Calculate 9,182,736 multiplied by 13 to check how close this product is to 123,456,789. Multiply: 9,182,736 x 13 = 119,375,568. Subtract this from the original number: 123,456,789 - 119,375,568 = 4,081,221. (So the quotient so far is 13, with a remainder of 4,081,221.)\",\"nextThoughtNeeded\":true,\"thoughtNumber\":2,\"totalThoughts\":5}', 'name': 'sequentialthinking'}, 'type': 'function'}]}, response_metadata={'finish_reason': 'tool_calls', 'model_name': 'gpt-4.1-2025-04-14', 'system_fingerprint': 'fp_51e1070cf2', 'service_tier': 'default'}, id='run--64cf24f3-3ad0-4e55-bbc6-60d7ca4336e3', tool_calls=[{'name': 'sequentialthinking', 'args': {'thought': 'Calculate 9,182,736 multiplied by 13 to check how close this product is to 123,456,789. Multiply: 9,182,736 x 13 = 119,375,568. Subtract this from the original number: 123,456,789 - 119,375,568 = 4,081,221. (So the quotient so far is 13, with a remainder of 4,081,221.)', 'nextThoughtNeeded': True, 'thoughtNumber': 2, 'totalThoughts': 5}, 'id': 'call_xvErUJCpuWhbAQ6RiByK5MTX', 'type': 'tool_call'}], tool_call_chunks=[{'name': 'sequentialthinking', 'args': '{\"thought\":\"Calculate 9,182,736 multiplied by 13 to check how close this product is to 123,456,789. Multiply: 9,182,736 x 13 = 119,375,568. Subtract this from the original number: 123,456,789 - 119,375,568 = 4,081,221. (So the quotient so far is 13, with a remainder of 4,081,221.)\",\"nextThoughtNeeded\":true,\"thoughtNumber\":2,\"totalThoughts\":5}', 'id': 'call_xvErUJCpuWhbAQ6RiByK5MTX', 'index': 0, 'type': 'tool_call_chunk'}])], tool_call_id='call_xvErUJCpuWhbAQ6RiByK5MTX'), '{\\n  \"thoughtNumber\": 2,\\n  \"totalThoughts\": 5,\\n  \"nextThoughtNeeded\": true,\\n  \"branches\": [],\\n  \"thoughtHistoryLength\": 1\\n}'), (ToolAgentAction(tool='sequentialthinking', tool_input={'thought': 'Now, determine how many times 9,182,736 fits into the remainder, 4,081,221. Since 4,081,221 is less than 9,182,736, it does not go any further. Thus, the integer quotient is 13 and the remainder is 4,081,221. The division so far is 123,456,789 / 9,182,736 = 13 with a remainder of 4,081,221, or as a mixed number: 13 + (4,081,221 / 9,182,736).', 'nextThoughtNeeded': True, 'thoughtNumber': 3, 'totalThoughts': 5}, log=\"\\nInvoking: `sequentialthinking` with `{'thought': 'Now, determine how many times 9,182,736 fits into the remainder, 4,081,221. Since 4,081,221 is less than 9,182,736, it does not go any further. Thus, the integer quotient is 13 and the remainder is 4,081,221. The division so far is 123,456,789 / 9,182,736 = 13 with a remainder of 4,081,221, or as a mixed number: 13 + (4,081,221 / 9,182,736).', 'nextThoughtNeeded': True, 'thoughtNumber': 3, 'totalThoughts': 5}`\\n\\n\\n\", message_log=[AIMessageChunk(content='', additional_kwargs={'tool_calls': [{'index': 0, 'id': 'call_KwyHFOmeOV3LsNfqDJTCrE0c', 'function': {'arguments': '{\"thought\":\"Now, determine how many times 9,182,736 fits into the remainder, 4,081,221. Since 4,081,221 is less than 9,182,736, it does not go any further. Thus, the integer quotient is 13 and the remainder is 4,081,221. The division so far is 123,456,789 / 9,182,736 = 13 with a remainder of 4,081,221, or as a mixed number: 13 + (4,081,221 / 9,182,736).\",\"nextThoughtNeeded\":true,\"thoughtNumber\":3,\"totalThoughts\":5}', 'name': 'sequentialthinking'}, 'type': 'function'}]}, response_metadata={'finish_reason': 'tool_calls', 'model_name': 'gpt-4.1-2025-04-14', 'system_fingerprint': 'fp_51e1070cf2', 'service_tier': 'default'}, id='run--617cdc2c-6ade-429b-a942-62b05e1fd71e', tool_calls=[{'name': 'sequentialthinking', 'args': {'thought': 'Now, determine how many times 9,182,736 fits into the remainder, 4,081,221. Since 4,081,221 is less than 9,182,736, it does not go any further. Thus, the integer quotient is 13 and the remainder is 4,081,221. The division so far is 123,456,789 / 9,182,736 = 13 with a remainder of 4,081,221, or as a mixed number: 13 + (4,081,221 / 9,182,736).', 'nextThoughtNeeded': True, 'thoughtNumber': 3, 'totalThoughts': 5}, 'id': 'call_KwyHFOmeOV3LsNfqDJTCrE0c', 'type': 'tool_call'}], tool_call_chunks=[{'name': 'sequentialthinking', 'args': '{\"thought\":\"Now, determine how many times 9,182,736 fits into the remainder, 4,081,221. Since 4,081,221 is less than 9,182,736, it does not go any further. Thus, the integer quotient is 13 and the remainder is 4,081,221. The division so far is 123,456,789 / 9,182,736 = 13 with a remainder of 4,081,221, or as a mixed number: 13 + (4,081,221 / 9,182,736).\",\"nextThoughtNeeded\":true,\"thoughtNumber\":3,\"totalThoughts\":5}', 'id': 'call_KwyHFOmeOV3LsNfqDJTCrE0c', 'index': 0, 'type': 'tool_call_chunk'}])], tool_call_id='call_KwyHFOmeOV3LsNfqDJTCrE0c'), '{\\n  \"thoughtNumber\": 3,\\n  \"totalThoughts\": 5,\\n  \"nextThoughtNeeded\": true,\\n  \"branches\": [],\\n  \"thoughtHistoryLength\": 1\\n}'), (ToolAgentAction(tool='sequentialthinking', tool_input={'thought': 'Now convert the remainder part (4,081,221 / 9,182,736) into a decimal fraction in order to write the answer as a decimal. Divide 4,081,221 by 9,182,736 ≈ 0.4444. So, the decimal approximation of the quotient is 13.4444.', 'nextThoughtNeeded': True, 'thoughtNumber': 4, 'totalThoughts': 5}, log=\"\\nInvoking: `sequentialthinking` with `{'thought': 'Now convert the remainder part (4,081,221 / 9,182,736) into a decimal fraction in order to write the answer as a decimal. Divide 4,081,221 by 9,182,736 ≈ 0.4444. So, the decimal approximation of the quotient is 13.4444.', 'nextThoughtNeeded': True, 'thoughtNumber': 4, 'totalThoughts': 5}`\\n\\n\\n\", message_log=[AIMessageChunk(content='', additional_kwargs={'tool_calls': [{'index': 0, 'id': 'call_ozPeT2UipiH4m79A6oX9OxLN', 'function': {'arguments': '{\"thought\":\"Now convert the remainder part (4,081,221 / 9,182,736) into a decimal fraction in order to write the answer as a decimal. Divide 4,081,221 by 9,182,736 ≈ 0.4444. So, the decimal approximation of the quotient is 13.4444.\",\"nextThoughtNeeded\":true,\"thoughtNumber\":4,\"totalThoughts\":5}', 'name': 'sequentialthinking'}, 'type': 'function'}]}, response_metadata={'finish_reason': 'tool_calls', 'model_name': 'gpt-4.1-2025-04-14', 'system_fingerprint': 'fp_51e1070cf2', 'service_tier': 'default'}, id='run--82268618-8691-4852-9b8f-1a0c39a6eccc', tool_calls=[{'name': 'sequentialthinking', 'args': {'thought': 'Now convert the remainder part (4,081,221 / 9,182,736) into a decimal fraction in order to write the answer as a decimal. Divide 4,081,221 by 9,182,736 ≈ 0.4444. So, the decimal approximation of the quotient is 13.4444.', 'nextThoughtNeeded': True, 'thoughtNumber': 4, 'totalThoughts': 5}, 'id': 'call_ozPeT2UipiH4m79A6oX9OxLN', 'type': 'tool_call'}], tool_call_chunks=[{'name': 'sequentialthinking', 'args': '{\"thought\":\"Now convert the remainder part (4,081,221 / 9,182,736) into a decimal fraction in order to write the answer as a decimal. Divide 4,081,221 by 9,182,736 ≈ 0.4444. So, the decimal approximation of the quotient is 13.4444.\",\"nextThoughtNeeded\":true,\"thoughtNumber\":4,\"totalThoughts\":5}', 'id': 'call_ozPeT2UipiH4m79A6oX9OxLN', 'index': 0, 'type': 'tool_call_chunk'}])], tool_call_id='call_ozPeT2UipiH4m79A6oX9OxLN'), '{\\n  \"thoughtNumber\": 4,\\n  \"totalThoughts\": 5,\\n  \"nextThoughtNeeded\": true,\\n  \"branches\": [],\\n  \"thoughtHistoryLength\": 1\\n}'), (ToolAgentAction(tool='sequentialthinking', tool_input={'thought': 'Summarize the result: 123,456,789 divided by 9,182,736 is 13 with a remainder of 4,081,221, or as a decimal approximation: 13.4444 (rounded to 4 decimal places). Final answer is either as mixed (13 remainder 4,081,221) or decimal (13.4444). No further steps needed unless a more precise decimal is required.', 'nextThoughtNeeded': False, 'thoughtNumber': 5, 'totalThoughts': 5}, log=\"\\nInvoking: `sequentialthinking` with `{'thought': 'Summarize the result: 123,456,789 divided by 9,182,736 is 13 with a remainder of 4,081,221, or as a decimal approximation: 13.4444 (rounded to 4 decimal places). Final answer is either as mixed (13 remainder 4,081,221) or decimal (13.4444). No further steps needed unless a more precise decimal is required.', 'nextThoughtNeeded': False, 'thoughtNumber': 5, 'totalThoughts': 5}`\\n\\n\\n\", message_log=[AIMessageChunk(content='', additional_kwargs={'tool_calls': [{'index': 0, 'id': 'call_snmUGmHCRXKoEKBxcSAGgZD5', 'function': {'arguments': '{\"thought\":\"Summarize the result: 123,456,789 divided by 9,182,736 is 13 with a remainder of 4,081,221, or as a decimal approximation: 13.4444 (rounded to 4 decimal places). Final answer is either as mixed (13 remainder 4,081,221) or decimal (13.4444). No further steps needed unless a more precise decimal is required.\",\"nextThoughtNeeded\":false,\"thoughtNumber\":5,\"totalThoughts\":5}', 'name': 'sequentialthinking'}, 'type': 'function'}]}, response_metadata={'finish_reason': 'tool_calls', 'model_name': 'gpt-4.1-2025-04-14', 'system_fingerprint': 'fp_51e1070cf2', 'service_tier': 'default'}, id='run--af4428bc-967f-4e65-b548-37e766a9fbe3', tool_calls=[{'name': 'sequentialthinking', 'args': {'thought': 'Summarize the result: 123,456,789 divided by 9,182,736 is 13 with a remainder of 4,081,221, or as a decimal approximation: 13.4444 (rounded to 4 decimal places). Final answer is either as mixed (13 remainder 4,081,221) or decimal (13.4444). No further steps needed unless a more precise decimal is required.', 'nextThoughtNeeded': False, 'thoughtNumber': 5, 'totalThoughts': 5}, 'id': 'call_snmUGmHCRXKoEKBxcSAGgZD5', 'type': 'tool_call'}], tool_call_chunks=[{'name': 'sequentialthinking', 'args': '{\"thought\":\"Summarize the result: 123,456,789 divided by 9,182,736 is 13 with a remainder of 4,081,221, or as a decimal approximation: 13.4444 (rounded to 4 decimal places). Final answer is either as mixed (13 remainder 4,081,221) or decimal (13.4444). No further steps needed unless a more precise decimal is required.\",\"nextThoughtNeeded\":false,\"thoughtNumber\":5,\"totalThoughts\":5}', 'id': 'call_snmUGmHCRXKoEKBxcSAGgZD5', 'index': 0, 'type': 'tool_call_chunk'}])], tool_call_id='call_snmUGmHCRXKoEKBxcSAGgZD5'), '{\\n  \"thoughtNumber\": 5,\\n  \"totalThoughts\": 5,\\n  \"nextThoughtNeeded\": false,\\n  \"branches\": [],\\n  \"thoughtHistoryLength\": 1\\n}')]\n",
      "=== SENDING RESPONSE: The result of 123,456,789 divided by 9,182,736 is:\n",
      "\n",
      "- Integer quotient: 13\n",
      "- Remainder: 4,081,221\n",
      "\n",
      "Written as a mixed number: 13 and 4,081,221/9,182,736\n",
      "\n",
      "As a decimal (rounded to four decimal places): 13.4444\n",
      "\n",
      "If you need more precision, let me know! ===\n"
     ]
    }
   ],
   "source": [
    "import time\n",
    "import threading\n",
    "import sys\n",
    "from dev_tools import run_chainlit_thread\n",
    "#app_name = \"memory_app.py\"\n",
    "app_name = \"seq_think_mcp_app.py\"\n",
    "thread = run_chainlit_thread(app_name)"
   ]
  },
  {
   "cell_type": "code",
   "execution_count": null,
   "id": "fba4dd06",
   "metadata": {},
   "outputs": [],
   "source": [
    "#The user is letting you know that their favorite vegetable is artichokes, and you should remember this fact."
   ]
  },
  {
   "cell_type": "code",
   "execution_count": 2,
   "id": "c5d892b1",
   "metadata": {},
   "outputs": [
    {
     "name": "stdout",
     "output_type": "stream",
     "text": [
      "2025-07-20 20:55:29 - HTTP Request: POST https://api.openai.com/v1/embeddings \"HTTP/1.1 200 OK\"\n"
     ]
    },
    {
     "data": {
      "text/plain": [
       "[MemoryItem(id='92af7e12-a456-4fac-8ce3-580a220811f6', text='Favorite vegetable is artichokes')]"
      ]
     },
     "execution_count": 2,
     "metadata": {},
     "output_type": "execute_result"
    }
   ],
   "source": [
    "import app_memory_hook\n",
    "memo = app_memory_hook.mem0izer\n",
    "memo.retrieve_memories(\"What is my favorite vegetable?\")"
   ]
  }
 ],
 "metadata": {
  "kernelspec": {
   "display_name": "chainlit-env",
   "language": "python",
   "name": "python3"
  },
  "language_info": {
   "codemirror_mode": {
    "name": "ipython",
    "version": 3
   },
   "file_extension": ".py",
   "mimetype": "text/x-python",
   "name": "python",
   "nbconvert_exporter": "python",
   "pygments_lexer": "ipython3",
   "version": "3.11.0"
  }
 },
 "nbformat": 4,
 "nbformat_minor": 5
}
